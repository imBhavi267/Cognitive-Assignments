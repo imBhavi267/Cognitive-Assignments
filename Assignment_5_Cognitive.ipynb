{
  "cells": [
    {
      "cell_type": "markdown",
      "metadata": {
        "id": "view-in-github",
        "colab_type": "text"
      },
      "source": [
        "<a href=\"https://colab.research.google.com/github/imbhavi247/Cognitive-Assignments/blob/main/Assignment_5_Cognitive.ipynb\" target=\"_parent\"><img src=\"https://colab.research.google.com/assets/colab-badge.svg\" alt=\"Open In Colab\"/></a>"
      ]
    },
    {
      "cell_type": "markdown",
      "source": [
        "1) For the array gfg = np.matrix('[4, 1, 9; 12, 3, 1; 4, 5, 6]'), Find\n",
        "i. Sum of all elements\n",
        "ii. Sum of all elements row-wise\n",
        "iii. Sum of all elements column-wise"
      ],
      "metadata": {
        "id": "YxueVEXF-d4I"
      }
    },
    {
      "cell_type": "code",
      "source": [
        "import numpy as np\n",
        "\n",
        "gfg = np.matrix('[4, 1, 9; 12, 3, 1; 4, 5, 6]')\n",
        "\n",
        "# i. Sum of all elements\n",
        "total_sum = np.sum(gfg)\n",
        "print(\"Sum of all elements:\", total_sum)\n",
        "\n",
        "# ii. Sum of all elements row-wise\n",
        "row_wise_sum = np.sum(gfg, axis=1)\n",
        "print(\"Sum of elements row-wise:\")\n",
        "print(row_wise_sum)\n",
        "\n",
        "# iii. Sum of all elements column-wise\n",
        "column_wise_sum = np.sum(gfg, axis=0)\n",
        "print(\"Sum of elements column-wise:\")\n",
        "print(column_wise_sum)\n"
      ],
      "metadata": {
        "id": "YmNsiAEGATxX",
        "outputId": "aa3c7605-8cfd-4977-bca3-4a707768d38d",
        "colab": {
          "base_uri": "https://localhost:8080/"
        }
      },
      "execution_count": null,
      "outputs": [
        {
          "output_type": "stream",
          "name": "stdout",
          "text": [
            "Sum of all elements: 45\n",
            "Sum of elements row-wise:\n",
            "[[14]\n",
            " [16]\n",
            " [15]]\n",
            "Sum of elements column-wise:\n",
            "[[20  9 16]]\n"
          ]
        }
      ]
    },
    {
      "cell_type": "markdown",
      "source": [
        "2)\n",
        "\n",
        "(a)For the array: array = np.array([10, 52, 62, 16, 16, 54, 453]), find\n",
        "\n",
        "i. Sorted array\n",
        "\n",
        "ii. Indices of sorted array\n",
        "\n",
        "iii. 4 smallest elements\n",
        "\n",
        "iv. 5 largest elements"
      ],
      "metadata": {
        "id": "UYxVNNBmAuV_"
      }
    },
    {
      "cell_type": "code",
      "source": [
        "array = np.array([10, 52, 62, 16, 16, 54, 453])\n",
        "\n",
        "# i. Sorted array\n",
        "sorted_array = np.sort(array)\n",
        "print(\"Sorted array:\", sorted_array)\n",
        "\n",
        "# ii. Indices of sorted array\n",
        "sorted_indices = np.argsort(array)\n",
        "print(\"Indices of sorted array:\", sorted_indices)\n",
        "\n",
        "# iii. 4 smallest elements\n",
        "smallest_elements = np.sort(array)[:4]\n",
        "print(\"4 smallest elements:\", smallest_elements)\n",
        "\n",
        "# iv. 5 largest elements\n",
        "largest_elements = np.sort(array)[-5:]\n",
        "print(\"5 largest elements:\", largest_elements)"
      ],
      "metadata": {
        "id": "xdiUs9awA3C_",
        "outputId": "a0988302-5dd7-446a-8664-a6c38b8a2cf9",
        "colab": {
          "base_uri": "https://localhost:8080/"
        }
      },
      "execution_count": null,
      "outputs": [
        {
          "output_type": "stream",
          "name": "stdout",
          "text": [
            "Sorted array: [ 10  16  16  52  54  62 453]\n",
            "Indices of sorted array: [0 3 4 1 5 2 6]\n",
            "4 smallest elements: [10 16 16 52]\n",
            "5 largest elements: [ 16  52  54  62 453]\n"
          ]
        }
      ]
    },
    {
      "cell_type": "markdown",
      "source": [
        "2)\n",
        "\n",
        "(b) For the array: array = np.array([1.0, 1.2, 2.2, 2.0, 3.0, 2.0]), find\n",
        "\n",
        "i. Integer elements only\n",
        "\n",
        "ii. Float elements only\n"
      ],
      "metadata": {
        "id": "KhNCDDtkBWsW"
      }
    },
    {
      "cell_type": "code",
      "source": [
        "array2 = np.array([1.0, 1.2, 2.2, 2.0, 3.0, 2.0])\n",
        "\n",
        "# i. Integer elements only\n",
        "integer_elements = array2[array2 == array2.astype(int)]\n",
        "print(\"Integer elements only:\", integer_elements)\n",
        "\n",
        "# ii. Float elements only\n",
        "float_elements = array2[array2 != array2.astype(int)]\n",
        "print(\"Float elements only:\", float_elements)"
      ],
      "metadata": {
        "id": "wHtkf7fZBjnO",
        "outputId": "b10aee47-9cf8-4fe9-c455-06f8968a7578",
        "colab": {
          "base_uri": "https://localhost:8080/"
        }
      },
      "execution_count": null,
      "outputs": [
        {
          "output_type": "stream",
          "name": "stdout",
          "text": [
            "Integer elements only: [1. 2. 3. 2.]\n",
            "Float elements only: [1.2 2.2]\n"
          ]
        }
      ]
    },
    {
      "cell_type": "markdown",
      "source": [
        "3)\n",
        "You are given a weekly sales dataset and need to perform various operations\n",
        "using NumPy broadcasting.\n",
        "\n",
        "a) Generate your unique sales dataset:\n",
        " Take the sum of the ASCII values of the initials of your first and last\n",
        "name. Call this value X. (If your initials are A B → ASCII sum = 65\n",
        "+ 66 = 131 → sales = [131, 181, 231, 281, 331].)\n",
        " Create a NumPy array sales with values [X, X+50, X+100, X+150,\n",
        "X+200].\n",
        "\n",
        "b) Compute your personalized tax rate as ((X % 5) + 5) / 100.\n",
        " Use broadcasting to apply this tax rate to each sales value.\n",
        "\n",
        "c) Adjust sales based on discount:\n",
        "\n",
        " If sales < X+100, apply a 5% discount.\n",
        " If sales >= X+100, apply a 10% discount.\n",
        "\n",
        "d) Expand sales data for multiple weeks:\n",
        "\n",
        " Create a 3×5 matrix representing three weeks of sales by stacking\n",
        "sales three times using broadcasting.\n",
        " Increase sales by 2% per week using element-wise broadcasting."
      ],
      "metadata": {
        "id": "JbYTUoDbCJPi"
      }
    },
    {
      "cell_type": "code",
      "source": [
        "first_initial = ord('A')\n",
        "last_initial = ord('B')\n",
        "X = first_initial + last_initial\n",
        "\n",
        "# a) Generate sales dataset\n",
        "sales = np.array([X, X+50, X+100, X+150, X+200])\n",
        "print(\"Sales dataset:\", sales)\n",
        "\n",
        "# b) Compute personalized tax rate\n",
        "tax_rate = ((X % 5) + 5) / 100\n",
        "sales_after_tax = sales * (1 - tax_rate)\n",
        "print(\"Sales after applying tax:\", sales_after_tax)\n",
        "\n",
        "# c) Adjust sales based on discount\n",
        "discounted_sales = np.where(sales < X+100, sales * 0.95, sales * 0.90)\n",
        "print(\"Discounted sales:\", discounted_sales)\n",
        "\n",
        "# d) Expand sales data for multiple weeks\n",
        "weekly_sales = np.vstack([sales] * 3)\n",
        "weekly_sales = weekly_sales * (1 + np.arange(3).reshape(-1, 1) * 0.02)\n",
        "print(\"Weekly sales with 2% increase per week:\\n\", weekly_sales)"
      ],
      "metadata": {
        "id": "66NzKsx7CksN",
        "outputId": "54e3f8c2-1594-41f7-985b-15b49a2ff94b",
        "colab": {
          "base_uri": "https://localhost:8080/"
        }
      },
      "execution_count": null,
      "outputs": [
        {
          "output_type": "stream",
          "name": "stdout",
          "text": [
            "Sales dataset: [131 181 231 281 331]\n",
            "Sales after applying tax: [123.14 170.14 217.14 264.14 311.14]\n",
            "Discounted sales: [124.45 171.95 207.9  252.9  297.9 ]\n",
            "Weekly sales with 2% increase per week:\n",
            " [[131.   181.   231.   281.   331.  ]\n",
            " [133.62 184.62 235.62 286.62 337.62]\n",
            " [136.24 188.24 240.24 292.24 344.24]]\n"
          ]
        }
      ]
    },
    {
      "cell_type": "markdown",
      "source": [
        "4)\n",
        "Generate x values using np.linspace() from -10 to 10 with 100 points. Use\n",
        "each function from the list below and compute y values using NumPy:\n",
        "\n",
        " Y = x2\n",
        " Y = sin(x)\n",
        " Y = ex\n",
        " Y = log(|x| + 1)\n",
        "Plot the chosen function using Matplotlib. Add title, labels, and grid for clarity."
      ],
      "metadata": {
        "id": "0R8sw4eaDBQ_"
      }
    },
    {
      "cell_type": "code",
      "source": [
        "import numpy as np\n",
        "import matplotlib.pyplot as plt\n",
        "\n",
        "x = np.linspace(-10, 10, 100)\n",
        "\n",
        "y_x2 = x**2\n",
        "y_sin = np.sin(x)\n",
        "y_exp = np.exp(x)\n",
        "y_log = np.log(np.abs(x) + 1)\n",
        "\n",
        "plt.figure(figsize=(8, 6))\n",
        "plt.plot(x, y_x2, label='Y = x^2', color='blue')\n",
        "plt.plot(x, y_sin, label='Y = sin(x)', color='red')\n",
        "plt.plot(x, y_exp, label='Y = e^x', color='green')\n",
        "plt.plot(x, y_log, label='Y = log(|x| + 1)', color='purple')\n",
        "\n",
        "plt.title(\"Function Plots\")\n",
        "plt.xlabel(\"X values\")\n",
        "plt.ylabel(\"Y values\")\n",
        "plt.legend()\n",
        "plt.grid(True)\n",
        "plt.show()"
      ],
      "metadata": {
        "id": "U-ZE3EECDSOB",
        "outputId": "a0b3942c-e6b9-4465-9cae-a6405989d7f0",
        "colab": {
          "base_uri": "https://localhost:8080/",
          "height": 564
        }
      },
      "execution_count": null,
      "outputs": [
        {
          "output_type": "display_data",
          "data": {
            "text/plain": [
              "<Figure size 800x600 with 1 Axes>"
            ],
            "image/png": "[encoded data removed]"
          },
          "metadata": {}
        }
      ]
    }
  ],
  "metadata": {
    "colab": {
      "toc_visible": true,
      "provenance": [],
      "include_colab_link": true
    },
    "kernelspec": {
      "display_name": "Python 3",
      "name": "python3"
    }
  },
  "nbformat": 4,
  "nbformat_minor": 0
}