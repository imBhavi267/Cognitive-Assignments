{
  "cells": [
    {
      "cell_type": "markdown",
      "metadata": {
        "id": "view-in-github",
        "colab_type": "text"
      },
      "source": [
        "<a href=\"https://colab.research.google.com/github/imBhavi267/Cognitive-Assignments/blob/main/Assignment_2%2C_102317227.ipynb\" target=\"_parent\"><img src=\"https://colab.research.google.com/assets/colab-badge.svg\" alt=\"Open In Colab\"/></a>"
      ]
    },
    {
      "cell_type": "markdown",
      "source": [
        "Create a List L that is defined as= [10, 20, 30, 40, 50, 60, 70, 80].\n",
        "i. WAP to add 200 and 300 to L.\n",
        "ii. WAP to remove 10 and 30 from L.\n",
        "iii. WAP to sort L in ascending order.\n",
        "iv. WAP to sort L in descending order."
      ],
      "metadata": {
        "id": "SBqFYc1xS25E"
      }
    },
    {
      "cell_type": "code",
      "source": [
        "# the given list\n",
        "L = [10,20,30,40,50,60,70,80]\n",
        "\n",
        "# adding 200 and 300 in L.\n",
        "\n",
        "L.append(200)\n",
        "L.append(300)\n",
        "print(\"after adding 200 and 300\",L)\n",
        "\n",
        "# removing 10 and 30 from L\n",
        "L.remove(10)\n",
        "L.remove(30)\n",
        "print(\"after removing 10 and 30\",L)\n",
        "\n",
        "# sorting L in ascending order\n",
        "L.sort()\n",
        "print(\"after sorting L\",L)\n",
        "\n",
        "# sorting L in descending order\n",
        "L.sort(reverse = True)\n",
        "print(\"after sorting in descending order\",L)"
      ],
      "metadata": {
        "id": "wlAopwsQTBLa",
        "outputId": "95f8810d-8f6f-413b-a1d0-28be2a5bbde1",
        "colab": {
          "base_uri": "https://localhost:8080/"
        }
      },
      "execution_count": null,
      "outputs": [
        {
          "output_type": "stream",
          "name": "stdout",
          "text": [
            "after adding 200 and 300 [10, 20, 30, 40, 50, 60, 70, 80, 200, 300]\n",
            "after removing 10 and 30 [20, 40, 50, 60, 70, 80, 200, 300]\n",
            "after sorting L [20, 40, 50, 60, 70, 80, 200, 300]\n",
            "after sorting in descending order [300, 200, 80, 70, 60, 50, 40, 20]\n"
          ]
        }
      ]
    },
    {
      "cell_type": "markdown",
      "source": [
        "Create a tuple of marks scored as scores = (45, 89.5, 76, 45.4, 89, 92, 58, 45) and\n",
        "perform the following operations using tuple functions:\n",
        "i. Identify the highest score and its index in the tuple.\n",
        "ii. Find the lowest score and count how many times it appears.\n",
        "iii. Reverse the tuple and return it as a list.\n",
        "iv. Check if a specific score ‘76’ (input by the user) is present in the tuple and\n",
        "print its first occurrence index, or a message saying it’s not present.\n"
      ],
      "metadata": {
        "id": "8wTjPDKzTGFN"
      }
    },
    {
      "cell_type": "code",
      "source": [
        "# The given tuple\n",
        "scores = (45, 89.5, 76, 45.4, 89, 92, 58, 45)\n",
        "\n",
        "# Identifying the highest score and its index\n",
        "highest_score = max(scores)\n",
        "highest_score_index = scores.index(highest_score)\n",
        "print(\"The highest score is: \", highest_score)\n",
        "print(\"The index of the highest score is: \", highest_score_index)\n",
        "\n",
        "# Finding the lowest score and counting how many times it appears\n",
        "lowest_score = min(scores)\n",
        "count_lowest_score = scores.count(lowest_score)\n",
        "print(\"The lowest score is: \", lowest_score)\n",
        "print(\"The count of the lowest score is: \", count_lowest_score)\n",
        "\n",
        "# Reverse the tuple and return it as a list\n",
        "reversed_scores = list(scores[::-1])\n",
        "print(\"The reversed tuple is:\", reversed_scores)\n",
        "\n",
        "# Check if a specific score ‘76’ is present in the tuple and print its first occurrence index\n",
        "target_score = 76\n",
        "\n",
        "if target_score in scores:\n",
        "    occurrence_index = scores.index(target_score)\n",
        "    print(f\"The score {target_score} is present at index:\", occurrence_index)\n",
        "else:\n",
        "    print(f\"The score {target_score} is not present in the tuple\")\n"
      ],
      "metadata": {
        "id": "mnACFHNuTKrk",
        "outputId": "98b184ea-32a9-4fb7-c814-3a70d2713b7f",
        "colab": {
          "base_uri": "https://localhost:8080/",
          "height": 280
        }
      },
      "execution_count": null,
      "outputs": [
        {
          "output_type": "stream",
          "name": "stdout",
          "text": [
            "The highest score is:  92\n",
            "The index of the highest score is:  5\n",
            "The lowest score is:  45\n",
            "The count of the lowest score is:  2\n"
          ]
        },
        {
          "output_type": "error",
          "ename": "TypeError",
          "evalue": "'list' object is not callable",
          "traceback": [
            "\u001b[0;31m---------------------------------------------------------------------------\u001b[0m",
            "\u001b[0;31mTypeError\u001b[0m                                 Traceback (most recent call last)",
            "\u001b[0;32m<ipython-input-73-eb56a77a6e8b>\u001b[0m in \u001b[0;36m<cell line: 0>\u001b[0;34m()\u001b[0m\n\u001b[1;32m     15\u001b[0m \u001b[0;34m\u001b[0m\u001b[0m\n\u001b[1;32m     16\u001b[0m \u001b[0;31m# Reverse the tuple and return it as a list\u001b[0m\u001b[0;34m\u001b[0m\u001b[0;34m\u001b[0m\u001b[0m\n\u001b[0;32m---> 17\u001b[0;31m \u001b[0mreversed_scores\u001b[0m \u001b[0;34m=\u001b[0m \u001b[0mlist\u001b[0m\u001b[0;34m(\u001b[0m\u001b[0mscores\u001b[0m\u001b[0;34m[\u001b[0m\u001b[0;34m:\u001b[0m\u001b[0;34m:\u001b[0m\u001b[0;34m-\u001b[0m\u001b[0;36m1\u001b[0m\u001b[0;34m]\u001b[0m\u001b[0;34m)\u001b[0m\u001b[0;34m\u001b[0m\u001b[0;34m\u001b[0m\u001b[0m\n\u001b[0m\u001b[1;32m     18\u001b[0m \u001b[0mprint\u001b[0m\u001b[0;34m(\u001b[0m\u001b[0;34m\"The reversed tuple is:\"\u001b[0m\u001b[0;34m,\u001b[0m \u001b[0mreversed_scores\u001b[0m\u001b[0;34m)\u001b[0m\u001b[0;34m\u001b[0m\u001b[0;34m\u001b[0m\u001b[0m\n\u001b[1;32m     19\u001b[0m \u001b[0;34m\u001b[0m\u001b[0m\n",
            "\u001b[0;31mTypeError\u001b[0m: 'list' object is not callable"
          ]
        }
      ]
    },
    {
      "cell_type": "markdown",
      "source": [
        "WAP to create a list of 100 random numbers between 100 and 900. Count and print\n",
        "the:\n",
        "i. All odd numbers\n",
        "ii. All even numbers\n",
        "iii. All prime numbers"
      ],
      "metadata": {
        "id": "WImaD0VhUAkj"
      }
    },
    {
      "cell_type": "code",
      "source": [
        "import random\n",
        "# creating the list of 100 random numbers between 100 and 900\n",
        "numbers = [random.randint(100,900) for _ in range(100)]\n",
        "\n",
        "# to check the prime numbers\n",
        "def is_prime(n):\n",
        "  if n<= 1:\n",
        "    return False\n",
        "  for i in range(2,int(n**0.5)+1):\n",
        "    if n % i ==0:\n",
        "      return False\n",
        "  return True\n",
        "\n",
        "  #to store the odd, even and prime numbers\n",
        "odd_numbers = []\n",
        "even_numbers = []\n",
        "prime_numbers = []\n",
        "\n",
        "for num in numbers:\n",
        "  if num % 2 == 0:\n",
        "    even_numbers.append(num)\n",
        "  else:\n",
        "    odd_numbers.append(num)\n",
        "\n",
        "  if is_prime(num):\n",
        "    prime_numbers.append(num)\n",
        "\n",
        "#printing the result\n",
        "print(\"list of random numbers:\",numbers)\n",
        "print(\"even numbers :\",even_numbers)\n",
        "# The built-in 'len' function is used here to get the count of even numbers.\n",
        "print(\"count of even numbers\", len(even_numbers)) # Fixed: Using the correct len() function\n",
        "print(\"odd numbers : \", odd_numbers)\n",
        "print(\"count of odd numbers: \",len(odd_numbers))\n",
        "print(\"prime numbers : \",prime_numbers)\n",
        "print(\"count of prime numbers\",len(prime_numbers))"
      ],
      "metadata": {
        "id": "OW5cP8PSUQ9w",
        "outputId": "8327077d-2009-419a-8ccc-a0a1fe841a68",
        "colab": {
          "base_uri": "https://localhost:8080/",
          "height": 265
        }
      },
      "execution_count": null,
      "outputs": [
        {
          "output_type": "stream",
          "name": "stdout",
          "text": [
            "list of random numbers: [785, 358, 466, 459, 448, 275, 643, 788, 740, 254, 234, 760, 573, 788, 311, 609, 810, 680, 726, 138, 496, 524, 176, 227, 601, 349, 693, 430, 255, 322, 107, 409, 210, 814, 326, 727, 372, 443, 178, 821, 338, 824, 523, 123, 410, 633, 482, 618, 650, 874, 231, 104, 782, 708, 629, 893, 406, 135, 608, 855, 842, 721, 657, 820, 843, 281, 493, 640, 304, 802, 311, 635, 720, 575, 705, 177, 880, 565, 449, 636, 565, 724, 850, 674, 170, 300, 667, 499, 326, 297, 813, 248, 823, 139, 293, 564, 319, 505, 559, 860]\n",
            "even numbers : [358, 466, 448, 788, 740, 254, 234, 760, 788, 810, 680, 726, 138, 496, 524, 176, 430, 322, 210, 814, 326, 372, 178, 338, 824, 410, 482, 618, 650, 874, 104, 782, 708, 406, 608, 842, 820, 640, 304, 802, 720, 880, 636, 724, 850, 674, 170, 300, 326, 248, 564, 860]\n"
          ]
        },
        {
          "output_type": "error",
          "ename": "TypeError",
          "evalue": "'int' object is not callable",
          "traceback": [
            "\u001b[0;31m---------------------------------------------------------------------------\u001b[0m",
            "\u001b[0;31mTypeError\u001b[0m                                 Traceback (most recent call last)",
            "\u001b[0;32m<ipython-input-75-7b991dc3093b>\u001b[0m in \u001b[0;36m<cell line: 0>\u001b[0;34m()\u001b[0m\n\u001b[1;32m     30\u001b[0m \u001b[0mprint\u001b[0m\u001b[0;34m(\u001b[0m\u001b[0;34m\"even numbers :\"\u001b[0m\u001b[0;34m,\u001b[0m\u001b[0meven_numbers\u001b[0m\u001b[0;34m)\u001b[0m\u001b[0;34m\u001b[0m\u001b[0;34m\u001b[0m\u001b[0m\n\u001b[1;32m     31\u001b[0m \u001b[0;31m# The built-in 'len' function is used here to get the count of even numbers.\u001b[0m\u001b[0;34m\u001b[0m\u001b[0;34m\u001b[0m\u001b[0m\n\u001b[0;32m---> 32\u001b[0;31m \u001b[0mprint\u001b[0m\u001b[0;34m(\u001b[0m\u001b[0;34m\"count of even numbers\"\u001b[0m\u001b[0;34m,\u001b[0m \u001b[0mlen\u001b[0m\u001b[0;34m(\u001b[0m\u001b[0meven_numbers\u001b[0m\u001b[0;34m)\u001b[0m\u001b[0;34m)\u001b[0m \u001b[0;31m# Fixed: Using the correct len() function\u001b[0m\u001b[0;34m\u001b[0m\u001b[0;34m\u001b[0m\u001b[0m\n\u001b[0m\u001b[1;32m     33\u001b[0m \u001b[0mprint\u001b[0m\u001b[0;34m(\u001b[0m\u001b[0;34m\"odd numbers : \"\u001b[0m\u001b[0;34m,\u001b[0m \u001b[0modd_numbers\u001b[0m\u001b[0;34m)\u001b[0m\u001b[0;34m\u001b[0m\u001b[0;34m\u001b[0m\u001b[0m\n\u001b[1;32m     34\u001b[0m \u001b[0mprint\u001b[0m\u001b[0;34m(\u001b[0m\u001b[0;34m\"count of odd numbers: \"\u001b[0m\u001b[0;34m,\u001b[0m\u001b[0mlen\u001b[0m\u001b[0;34m(\u001b[0m\u001b[0modd_numbers\u001b[0m\u001b[0;34m)\u001b[0m\u001b[0;34m)\u001b[0m\u001b[0;34m\u001b[0m\u001b[0;34m\u001b[0m\u001b[0m\n",
            "\u001b[0;31mTypeError\u001b[0m: 'int' object is not callable"
          ]
        }
      ]
    },
    {
      "cell_type": "markdown",
      "source": [
        "Consider the following two sets, A and B, represenƟng scores of two teams in mulƟple\n",
        "matches. A = {34, 56, 78, 90} and B = {78, 45, 90, 23}\n",
        "WAP to perform the following operaƟons using set funcƟons:\n",
        "i. Find the unique scores achieved by both teams (union of sets).\n",
        "ii. IdenƟfy the scores that are common to both teams (intersecƟon of sets).\n",
        "iii. Find the scores that are exclusive to each team (symmetric difference).\n",
        "iv. Check if the scores of team A are a subset of team B, and if team B's scores are\n",
        "a superset of team A.\n",
        "v. Remove a specific score 𝑋 (input by the user) from set A if it exists. If not, print\n",
        "a message saying it is not present."
      ],
      "metadata": {
        "id": "WsUMxHtCUfYx"
      }
    },
    {
      "cell_type": "code",
      "source": [
        "A = {34,56,78,90}\n",
        "B = {78,45,90,23}\n",
        "\n",
        "union_marks = A.union(B)\n",
        "print(\"union scores achieved by both teams :\",union_marks)\n",
        "\n",
        "common_marks = A.intersection(B)\n",
        "print(\"common scores achieved by both teams\",common_marks)\n",
        "\n",
        "symmetric_marks = A.symmetric_difference(B)\n",
        "print(\"scores symmetruc to each other \",symmetric_marks)\n",
        "\n",
        "is_subset = A.issubset(B)\n",
        "is_superset = B.issuperset(A)\n",
        "\n",
        "print(\"team A's scores are a subset of team B\",is_subset)\n",
        "print(\"team B's scores are a superset of team A\",is_superset)\n",
        "\n",
        "W = int(input(\"Enter the score to remove from set A: \"))\n",
        "\n",
        "if W in A:\n",
        "  A.remove(W)\n",
        "  print(\"score\",W,\"removed from set A.\",A)\n",
        "else:\n",
        " print(\"score\",W,\"is not present in set A.\")"
      ],
      "metadata": {
        "id": "kG8zSauIUiRh",
        "outputId": "19dc5260-9481-4112-92b5-4c2c3e9d5cfb",
        "colab": {
          "base_uri": "https://localhost:8080/"
        }
      },
      "execution_count": null,
      "outputs": [
        {
          "output_type": "stream",
          "name": "stdout",
          "text": [
            "union scores achieved by both teams : {34, 45, 78, 23, 56, 90}\n",
            "common scores achieved by both teams {90, 78}\n",
            "scores symmetruc to each other  {34, 45, 23, 56}\n",
            "team A's scores are a subset of team B False\n",
            "team B's scores are a superset of team A False\n",
            "Enter the score to remove from set A: 78\n",
            "score 78 removed from set A. {56, 34, 90}\n"
          ]
        }
      ]
    },
    {
      "cell_type": "markdown",
      "source": [
        "Consider the following two sets, A and B, represenƟng scores of two teams in mulƟple\n",
        "matches. A = {34, 56, 78, 90} and B = {78, 45, 90, 23}\n",
        "WAP to perform the following operaƟons using set funcƟons:\n",
        "i. Find the unique scores achieved by both teams (union of sets).\n",
        "ii. IdenƟfy the scores that are common to both teams (intersecƟon of sets).\n",
        "iii. Find the scores that are exclusive to each team (symmetric difference).\n",
        "iv. Check if the scores of team A are a subset of team B, and if team B's scores are\n",
        "a superset of team A.\n",
        "v. Remove a specific score 𝑋 (input by the user) from set A if it exists. If not, print\n",
        "a message saying it is not present."
      ],
      "metadata": {
        "id": "B3J5MCz9UqAB"
      }
    },
    {
      "cell_type": "code",
      "source": [
        "sample_dict = {\n",
        "    \"name\": \"kelly\",\n",
        "    \"age\" : 25,\n",
        "    \"salary\" : 8000,\n",
        "    \"city\" : \"New york\"\n",
        "}\n",
        "\n",
        "sample_dict[\"location\"] = sample_dict.pop(\"city\")\n",
        "\n",
        "print(sample_dict)"
      ],
      "metadata": {
        "id": "76BRG5STUtpE",
        "outputId": "9ac8c934-e204-45c4-a30b-364ac9f34b4c",
        "colab": {
          "base_uri": "https://localhost:8080/"
        }
      },
      "execution_count": null,
      "outputs": [
        {
          "output_type": "stream",
          "name": "stdout",
          "text": [
            "{'name': 'kelly', 'age': 25, 'salary': 8000, 'location': 'New york'}\n"
          ]
        }
      ]
    }
  ],
  "metadata": {
    "colab": {
      "toc_visible": true,
      "provenance": [],
      "include_colab_link": true
    },
    "kernelspec": {
      "display_name": "Python 3",
      "name": "python3"
    }
  },
  "nbformat": 4,
  "nbformat_minor": 0
}