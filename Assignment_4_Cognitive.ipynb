{
  "cells": [
    {
      "cell_type": "markdown",
      "metadata": {
        "id": "view-in-github",
        "colab_type": "text"
      },
      "source": [
        "<a href=\"https://colab.research.google.com/github/imbhavi247/Cognitive-Assignments/blob/main/Assignment_4_Cognitive.ipynb\" target=\"_parent\"><img src=\"https://colab.research.google.com/assets/colab-badge.svg\" alt=\"Open In Colab\"/></a>"
      ]
    },
    {
      "cell_type": "markdown",
      "source": [
        "Q.1 Write a program to create a NumPy 1D-array with 5 elements and perform basic\n",
        "operations like:\n",
        "\n",
        "a) Addition of 2 in all the element\n",
        "\n",
        "b) Multiply 3 with all the elements\n",
        "\n",
        "c) Divide every element by 2"
      ],
      "metadata": {
        "id": "txLs7UmT0Tlh"
      }
    },
    {
      "cell_type": "code",
      "source": [
        "import numpy as np\n",
        "\n",
        "array = np.array([1, 2, 3, 4, 5])\n",
        "\n",
        "# a) Addition of 2 in all the elements\n",
        "addition_result = array + 2\n",
        "\n",
        "# b) Multiply 3 with all the elements\n",
        "multiplication_result = array * 3\n",
        "\n",
        "# c) Divide every element by 2\n",
        "division_result = array / 2\n",
        "\n",
        "print(\"Original array:\", array)\n",
        "print(\"After addition of 2:\", addition_result)\n",
        "print(\"After multiplication by 3:\", multiplication_result)\n",
        "print(\"After division by 2:\", division_result)\n"
      ],
      "metadata": {
        "id": "z0vmmd5r09xX",
        "outputId": "084a3aa3-c28f-412d-b812-4e109df1ebc7",
        "colab": {
          "base_uri": "https://localhost:8080/"
        }
      },
      "execution_count": null,
      "outputs": [
        {
          "output_type": "stream",
          "name": "stdout",
          "text": [
            "Original array: [1 2 3 4 5]\n",
            "After addition of 2: [3 4 5 6 7]\n",
            "After multiplication by 3: [ 3  6  9 12 15]\n",
            "After division by 2: [0.5 1.  1.5 2.  2.5]\n"
          ]
        }
      ]
    },
    {
      "cell_type": "markdown",
      "source": [
        "Q.2 Questions on Basic NumPy Array:\n",
        "\n",
        "a) Reverse the NumPy array: arr = np.array([1, 2, 3, 6, 4, 5])\n"
      ],
      "metadata": {
        "id": "AVAGSni11QbJ"
      }
    },
    {
      "cell_type": "code",
      "source": [
        "import numpy as np\n",
        "\n",
        "arr = np.array([1, 2, 3, 6, 4, 5])\n",
        "\n",
        "reversed_arr = arr[::-1]\n",
        "\n",
        "print(\"Original array:\", arr)\n",
        "print(\"Reversed array:\", reversed_arr)\n"
      ],
      "metadata": {
        "id": "QfIlJjHG1dmv",
        "outputId": "53e9cd61-9ad7-4edb-f296-60fd500b808d",
        "colab": {
          "base_uri": "https://localhost:8080/"
        }
      },
      "execution_count": null,
      "outputs": [
        {
          "output_type": "stream",
          "name": "stdout",
          "text": [
            "Original array: [1 2 3 6 4 5]\n",
            "Reversed array: [5 4 6 3 2 1]\n"
          ]
        }
      ]
    },
    {
      "cell_type": "markdown",
      "source": [
        "b) Find the most frequent value and their indice(s) in the following arrays:\n",
        "\n",
        "i. x = np.array([1,2,3,4,5,1,2,1,1,1])\n",
        "\n",
        "ii. y = np.array([1, 1, 1, 2, 3, 4, 2, 4, 3, 3, ])"
      ],
      "metadata": {
        "id": "Tc4je6oN1jzw"
      }
    },
    {
      "cell_type": "code",
      "source": [
        "import numpy as np\n",
        "\n",
        "x = np.array([1, 2, 3, 4, 5, 1, 2, 1, 1, 1])\n",
        "y = np.array([1, 1, 1, 2, 3, 4, 2, 4, 3, 3])\n",
        "\n",
        "def most_frequent_value(arr):\n",
        "    values, counts = np.unique(arr, return_counts=True)\n",
        "    max_count_index = np.argmax(counts)\n",
        "    most_frequent = values[max_count_index]\n",
        "    indices = np.where(arr == most_frequent)[0]\n",
        "    return most_frequent, indices\n",
        "\n",
        "most_frequent_x, indices_x = most_frequent_value(x)\n",
        "print(\"Array x:\", x)\n",
        "print(\"Most frequent value in x:\", most_frequent_x)\n",
        "print(\"Indices of most frequent value in x:\", indices_x)\n",
        "\n",
        "most_frequent_y, indices_y = most_frequent_value(y)\n",
        "print(\"Array y:\", y)\n",
        "print(\"Most frequent value in y:\", most_frequent_y)\n",
        "print(\"Indices of most frequent value in y:\", indices_y)\n"
      ],
      "metadata": {
        "id": "MSYMIUNS2Nge",
        "outputId": "eb4e354d-a93b-4b45-e190-7d721ba00c8f",
        "colab": {
          "base_uri": "https://localhost:8080/"
        }
      },
      "execution_count": null,
      "outputs": [
        {
          "output_type": "stream",
          "name": "stdout",
          "text": [
            "Array x: [1 2 3 4 5 1 2 1 1 1]\n",
            "Most frequent value in x: 1\n",
            "Indices of most frequent value in x: [0 5 7 8 9]\n",
            "Array y: [1 1 1 2 3 4 2 4 3 3]\n",
            "Most frequent value in y: 1\n",
            "Indices of most frequent value in y: [0 1 2]\n"
          ]
        }
      ]
    },
    {
      "cell_type": "markdown",
      "source": [
        "Q.3 For the given 2-D array arr=np.array([10, 20, 30], [40, 50, 60], [70, 80, 90]), access\n",
        "elements using row and column indices as follows:\n",
        "\n",
        "a) Access 1st row, 2nd column\n"
      ],
      "metadata": {
        "id": "gHUr7Y_m2SaO"
      }
    },
    {
      "cell_type": "code",
      "source": [
        "import numpy as np\n",
        "\n",
        "arr = np.array([[10, 20, 30], [40, 50, 60], [70, 80, 90]])\n",
        "\n",
        "element = arr[0, 1]\n",
        "\n",
        "print(\"Array:\")\n",
        "print(arr)\n",
        "print(\"Element in 1st row, 2nd column:\", element)\n"
      ],
      "metadata": {
        "id": "ez5fGxl_2ZU3",
        "outputId": "f5408867-ef9f-40bd-d7ef-f42d4e3da279",
        "colab": {
          "base_uri": "https://localhost:8080/"
        }
      },
      "execution_count": null,
      "outputs": [
        {
          "output_type": "stream",
          "name": "stdout",
          "text": [
            "Array:\n",
            "[[10 20 30]\n",
            " [40 50 60]\n",
            " [70 80 90]]\n",
            "Element in 1st row, 2nd column: 20\n"
          ]
        }
      ]
    },
    {
      "cell_type": "markdown",
      "source": [
        "b) Access 3rd row, 1st column"
      ],
      "metadata": {
        "id": "Xvnmuond2gYu"
      }
    },
    {
      "cell_type": "code",
      "source": [
        "import numpy as np\n",
        "\n",
        "arr = np.array([[10, 20, 30], [40, 50, 60], [70, 80, 90]])\n",
        "\n",
        "element = arr[2, 0]\n",
        "\n",
        "print(\"Array:\")\n",
        "print(arr)\n",
        "print(\"Element in 3rd row, 1st column:\", element)\n"
      ],
      "metadata": {
        "id": "0OwNLPKL2jZO",
        "outputId": "37d3fe12-e625-44b5-9e30-7db806cc44de",
        "colab": {
          "base_uri": "https://localhost:8080/"
        }
      },
      "execution_count": null,
      "outputs": [
        {
          "output_type": "stream",
          "name": "stdout",
          "text": [
            "Array:\n",
            "[[10 20 30]\n",
            " [40 50 60]\n",
            " [70 80 90]]\n",
            "Element in 3rd row, 1st column: 70\n"
          ]
        }
      ]
    },
    {
      "cell_type": "markdown",
      "source": [
        "Q.4 Write program to create an 1-D NumPy array named <<Your Name>> with evenly\n",
        "spaced 25 numbers from 10 to 100 using linspace(). Print the dimensions of the array,\n",
        "shape, total elements, the data type of each element and total number of bytes consumed\n",
        "by the array. Find the transpose of this array using reshape() attribute. Can we do the same\n",
        "with T attribute?\n"
      ],
      "metadata": {
        "id": "hl35e6iR2tVW"
      }
    },
    {
      "cell_type": "code",
      "source": [
        "import numpy as np\n",
        "\n",
        "ujjwal = np.linspace(10, 100, 25)\n",
        "\n",
        "print(\"Dimensions of the array:\", ujjwal.ndim)\n",
        "\n",
        "print(\"Shape of the array:\", ujjwal.shape)\n",
        "\n",
        "print(\"Total elements in the array:\", ujjwal.size)\n",
        "\n",
        "print(\"Data type of each element:\", ujjwal.dtype)\n",
        "\n",
        "print(\"Total number of bytes consumed by the array:\", ujjwal.nbytes)\n",
        "\n",
        "transpose_array = ujjwal.reshape((5, 5)).T\n",
        "print(\"Transpose of the array using reshape() and T:\")\n",
        "print(transpose_array)\n",
        "\n",
        "can_transpose_with_T = (transpose_array == ujjwal.reshape((5, 5)).T).all()\n",
        "print(\"Can we transpose the array with T attribute directly?:\", can_transpose_with_T)\n"
      ],
      "metadata": {
        "id": "O0O__Ube2wnP",
        "outputId": "9d8ef390-41f3-44dc-a9d2-363f8723c0ea",
        "colab": {
          "base_uri": "https://localhost:8080/"
        }
      },
      "execution_count": null,
      "outputs": [
        {
          "output_type": "stream",
          "name": "stdout",
          "text": [
            "Dimensions of the array: 1\n",
            "Shape of the array: (25,)\n",
            "Total elements in the array: 25\n",
            "Data type of each element: float64\n",
            "Total number of bytes consumed by the array: 200\n",
            "Transpose of the array using reshape() and T:\n",
            "[[ 10.    28.75  47.5   66.25  85.  ]\n",
            " [ 13.75  32.5   51.25  70.    88.75]\n",
            " [ 17.5   36.25  55.    73.75  92.5 ]\n",
            " [ 21.25  40.    58.75  77.5   96.25]\n",
            " [ 25.    43.75  62.5   81.25 100.  ]]\n",
            "Can we transpose the array with T attribute directly?: True\n"
          ]
        }
      ]
    },
    {
      "cell_type": "markdown",
      "source": [
        "Q5. Create a 2-D Array of three rows and four columns, named ucs420_<your_name>>\n",
        "with following values – 10, 20, 30, 40, 50, 60, 70, 80, 90, 15, 20, 35. Compute the mean,\n",
        "median, max, min, unique elements. Reshape the array to four rows and three columns and\n",
        "name it as reshaped_ ucs420_<your_name>>. Resize the array to two rows and three\n",
        "columns and name it as resized_ ucs420_<your_name>>."
      ],
      "metadata": {
        "id": "sFlBjCqU3ame"
      }
    },
    {
      "cell_type": "code",
      "source": [
        "import numpy as np\n",
        "\n",
        "ucs420_ujjwal = np.array([[10, 20, 30, 40], [50, 60, 70, 80], [90, 15, 20, 35]])\n",
        "\n",
        "mean_value = np.mean(ucs420_ujjwal)\n",
        "median_value = np.median(ucs420_ujjwal)\n",
        "max_value = np.max(ucs420_ujjwal)\n",
        "min_value = np.min(ucs420_ujjwal)\n",
        "unique_elements = np.unique(ucs420_ujjwal)\n",
        "\n",
        "print(\"Original array (ucs420_ujjwal):\")\n",
        "print(ucs420_ujjwal)\n",
        "print(\"Mean:\", mean_value)\n",
        "print(\"Median:\", median_value)\n",
        "print(\"Max:\", max_value)\n",
        "print(\"Min:\", min_value)\n",
        "print(\"Unique elements:\", unique_elements)\n",
        "\n",
        "reshaped_ucs420_ujjwal = ucs420_ujjwal.reshape(4, 3)\n",
        "print(\"\\nReshaped array (reshaped_ucs420_ujjwal):\")\n",
        "print(reshaped_ucs420_ujjwal)\n",
        "\n",
        "resized_ucs420_ujjwal = np.resize(ucs420_ujjwal, (2, 3))\n",
        "print(\"\\nResized array (resized_ucs420_ujjwal):\")\n",
        "print(resized_ucs420_ujjwal)\n"
      ],
      "metadata": {
        "id": "i7L1zezq3eHX",
        "outputId": "0c155fd9-7289-4c14-ae62-263922c481fa",
        "colab": {
          "base_uri": "https://localhost:8080/"
        }
      },
      "execution_count": 3,
      "outputs": [
        {
          "output_type": "stream",
          "name": "stdout",
          "text": [
            "Original array (ucs420_ujjwal):\n",
            "[[10 20 30 40]\n",
            " [50 60 70 80]\n",
            " [90 15 20 35]]\n",
            "Mean: 43.333333333333336\n",
            "Median: 37.5\n",
            "Max: 90\n",
            "Min: 10\n",
            "Unique elements: [10 15 20 30 35 40 50 60 70 80 90]\n",
            "\n",
            "Reshaped array (reshaped_ucs420_ujjwal):\n",
            "[[10 20 30]\n",
            " [40 50 60]\n",
            " [70 80 90]\n",
            " [15 20 35]]\n",
            "\n",
            "Resized array (resized_ucs420_ujjwal):\n",
            "[[10 20 30]\n",
            " [40 50 60]]\n"
          ]
        }
      ]
    }
  ],
  "metadata": {
    "colab": {
      "toc_visible": true,
      "provenance": [],
      "include_colab_link": true
    },
    "kernelspec": {
      "display_name": "Python 3",
      "name": "python3"
    }
  },
  "nbformat": 4,
  "nbformat_minor": 0
}